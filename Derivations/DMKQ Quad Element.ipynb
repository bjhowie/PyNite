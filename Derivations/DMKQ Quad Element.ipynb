{
 "cells": [
  {
   "cell_type": "code",
   "execution_count": 1,
   "metadata": {},
   "outputs": [],
   "source": [
    "from numpy import array\n",
    "from sympy import symbols, Eq, Matrix, diff, Derivative, simplify, factor, expand, latex, init_printing, collect\n",
    "init_printing()\n",
    "from IPython.display import display, Math"
   ]
  },
  {
   "cell_type": "markdown",
   "metadata": {},
   "source": [
    "# General Procedure\n",
    "The stiffness matrix [K] for an MITC4 element is defined using Equation 5.27 of Reference 1 (all references are listed at the bottom of this notebook):\n",
    "\n",
    "$[k] = \\int_A [B]^T[C][B] dA$\n",
    "\n",
    "This integral will be extremely complex, so integration over the area (A) of the element will be carried out numerically using a procedure called Gaussian Quadrature as outlined in Reference 3 Section 10.4. The greatest difficulty in deriving this element is in coming up with the [B] matrix.\n",
    "\n",
    "The equation for [k] above will need to be evaluated for bending, shear, and membrane forces separately. The resulting [k] matrices will then be summed to obtain the overall stiffness:\n",
    "\n",
    "$[k] = [k_\\kappa] + [k_\\gamma] + [k_m]$"
   ]
  },
  {
   "attachments": {},
   "cell_type": "markdown",
   "metadata": {},
   "source": [
    "# Step 1a: Define the Bilinear Shape Functions\n",
    "To obtain the [$B_b$] matrix for bending, we'll need to define what are known as shape functions and their partial derivatives. Their purpose will become clear below. The shape functions are given in Figure 5 of Reference 1:\n",
    "\n",
    "<div>\n",
    "<img src=\".\\DKMQ Shape Functions.png\" width=\"500\">\n",
    "</div>"
   ]
  },
  {
   "cell_type": "code",
   "execution_count": 2,
   "metadata": {},
   "outputs": [],
   "source": [
    "x1, y1, x2, y2, x3, y3, x4, y4 = symbols('x_1, y_1, x_2, y_2, x_3, y_3, x_4, y_4')\n",
    "xi, eta = symbols('\\\\xi, \\\\eta')\n",
    "\n",
    "# Define the shape functions\n",
    "N1 = factor(1/4*(1-xi)*(1-eta))\n",
    "N2 = factor(1/4*(1+xi)*(1-eta))\n",
    "N3 = factor(1/4*(1+xi)*(1+eta))\n",
    "N4 = factor(1/4*(1-xi)*(1+eta))\n",
    "\n",
    "P5 = factor(1/2*(1-xi**2)*(1-eta))\n",
    "P6 = factor(1/2*(1+xi)*(1-eta**2))\n",
    "P7 = factor(1/2*(1-xi**2)*(1+eta))\n",
    "P8 = factor(1/2*(1-xi)*(1-eta**2))"
   ]
  },
  {
   "cell_type": "markdown",
   "metadata": {},
   "source": [
    "# Step 1b: Calculate the Partial Derivatives of the Shape Functions"
   ]
  },
  {
   "cell_type": "code",
   "execution_count": 3,
   "metadata": {},
   "outputs": [
    {
     "name": "stdout",
     "output_type": "stream",
     "text": [
      "Partial Derivatives:\n"
     ]
    },
    {
     "data": {
      "text/latex": [
       "$\\displaystyle N_{1,\\xi} = 0.25 \\left(\\eta - 1\\right)$"
      ],
      "text/plain": [
       "<IPython.core.display.Math object>"
      ]
     },
     "metadata": {},
     "output_type": "display_data"
    },
    {
     "data": {
      "text/latex": [
       "$\\displaystyle N_{2,\\xi} = - 0.25 \\left(\\eta - 1\\right)$"
      ],
      "text/plain": [
       "<IPython.core.display.Math object>"
      ]
     },
     "metadata": {},
     "output_type": "display_data"
    },
    {
     "data": {
      "text/latex": [
       "$\\displaystyle N_{3,\\xi} = 0.25 \\left(\\eta + 1\\right)$"
      ],
      "text/plain": [
       "<IPython.core.display.Math object>"
      ]
     },
     "metadata": {},
     "output_type": "display_data"
    },
    {
     "data": {
      "text/latex": [
       "$\\displaystyle N_{4,\\xi} = - 0.25 \\left(\\eta + 1\\right)$"
      ],
      "text/plain": [
       "<IPython.core.display.Math object>"
      ]
     },
     "metadata": {},
     "output_type": "display_data"
    },
    {
     "data": {
      "text/latex": [
       "$\\displaystyle N_{1,\\eta} = 0.25 \\left(\\xi - 1\\right)$"
      ],
      "text/plain": [
       "<IPython.core.display.Math object>"
      ]
     },
     "metadata": {},
     "output_type": "display_data"
    },
    {
     "data": {
      "text/latex": [
       "$\\displaystyle N_{2,\\eta} = - 0.25 \\left(\\xi + 1\\right)$"
      ],
      "text/plain": [
       "<IPython.core.display.Math object>"
      ]
     },
     "metadata": {},
     "output_type": "display_data"
    },
    {
     "data": {
      "text/latex": [
       "$\\displaystyle N_{3,\\eta} = 0.25 \\left(\\xi + 1\\right)$"
      ],
      "text/plain": [
       "<IPython.core.display.Math object>"
      ]
     },
     "metadata": {},
     "output_type": "display_data"
    },
    {
     "data": {
      "text/latex": [
       "$\\displaystyle N_{4,\\eta} = - 0.25 \\left(\\xi - 1\\right)$"
      ],
      "text/plain": [
       "<IPython.core.display.Math object>"
      ]
     },
     "metadata": {},
     "output_type": "display_data"
    }
   ],
   "source": [
    "N1_xi = factor(diff(N1, xi))\n",
    "N2_xi = factor(diff(N2, xi))\n",
    "N3_xi = factor(diff(N3, xi))\n",
    "N4_xi = factor(diff(N4, xi))\n",
    "\n",
    "N1_eta = factor(diff(N1, eta))\n",
    "N2_eta = factor(diff(N2, eta))\n",
    "N3_eta = factor(diff(N3, eta))\n",
    "N4_eta = factor(diff(N4, eta))\n",
    "\n",
    "print('Partial Derivatives:')\n",
    "display(Math('N_{1,\\\\xi} = ' + latex(N1_xi)))\n",
    "display(Math('N_{2,\\\\xi} = ' + latex(N2_xi)))\n",
    "display(Math('N_{3,\\\\xi} = ' + latex(N3_xi)))\n",
    "display(Math('N_{4,\\\\xi} = ' + latex(N4_xi)))\n",
    "\n",
    "display(Math('N_{1,\\\\eta} = ' + latex(N1_eta)))\n",
    "display(Math('N_{2,\\\\eta} = ' + latex(N2_eta)))\n",
    "display(Math('N_{3,\\\\eta} = ' + latex(N3_eta)))\n",
    "display(Math('N_{4,\\\\eta} = ' + latex(N4_eta)))\n",
    "\n",
    "# For copying and pasting into code:\n",
    "# print('N1_xi = ' + latex(N1_xi))\n",
    "# print('N2_xi = ' + latex(N2_xi))\n",
    "# print('N3_xi = ' + latex(N3_xi))\n",
    "# print('N4_xi = ' + latex(N4_xi))\n",
    "\n",
    "# print('N1_eta = ' + latex(N1_eta))\n",
    "# print('N2_eta = ' + latex(N2_eta))\n",
    "# print('N3_eta = ' + latex(N3_eta))\n",
    "# print('N3_eta = ' + latex(N4_eta))"
   ]
  },
  {
   "cell_type": "markdown",
   "metadata": {},
   "source": [
    "# Step 1c: Define the Quadratic Shape Functions and Their Partial Derivatives\n",
    "Again, from Figure 5 of Reference 1, we obtain interpolation functions are given in Figure 5 of Reference 1:"
   ]
  },
  {
   "cell_type": "code",
   "execution_count": 9,
   "metadata": {},
   "outputs": [
    {
     "name": "stdout",
     "output_type": "stream",
     "text": [
      "Partial Derivatives:\n"
     ]
    },
    {
     "data": {
      "text/latex": [
       "$\\displaystyle P_{5,\\xi} = 1.0 \\xi \\left(1.0 \\eta - 1.0\\right)$"
      ],
      "text/plain": [
       "<IPython.core.display.Math object>"
      ]
     },
     "metadata": {},
     "output_type": "display_data"
    },
    {
     "data": {
      "text/latex": [
       "$\\displaystyle P_{6,\\xi} = - 0.5 \\left(\\eta - 1\\right) \\left(\\eta + 1\\right)$"
      ],
      "text/plain": [
       "<IPython.core.display.Math object>"
      ]
     },
     "metadata": {},
     "output_type": "display_data"
    },
    {
     "data": {
      "text/latex": [
       "$\\displaystyle P_{7,\\xi} = - 1.0 \\xi \\left(1.0 \\eta + 1.0\\right)$"
      ],
      "text/plain": [
       "<IPython.core.display.Math object>"
      ]
     },
     "metadata": {},
     "output_type": "display_data"
    },
    {
     "data": {
      "text/latex": [
       "$\\displaystyle P_{8,\\xi} = 0.5 \\left(\\eta - 1\\right) \\left(\\eta + 1\\right)$"
      ],
      "text/plain": [
       "<IPython.core.display.Math object>"
      ]
     },
     "metadata": {},
     "output_type": "display_data"
    },
    {
     "name": "stdout",
     "output_type": "stream",
     "text": [
      "\n"
     ]
    },
    {
     "data": {
      "text/latex": [
       "$\\displaystyle P_{5,\\eta} = 0.5 \\left(\\xi - 1\\right) \\left(\\xi + 1\\right)$"
      ],
      "text/plain": [
       "<IPython.core.display.Math object>"
      ]
     },
     "metadata": {},
     "output_type": "display_data"
    },
    {
     "data": {
      "text/latex": [
       "$\\displaystyle P_{6,\\eta} = - 1.0 \\eta \\left(1.0 \\xi + 1.0\\right)$"
      ],
      "text/plain": [
       "<IPython.core.display.Math object>"
      ]
     },
     "metadata": {},
     "output_type": "display_data"
    },
    {
     "data": {
      "text/latex": [
       "$\\displaystyle P_{7,\\eta} = - 0.5 \\left(\\xi - 1\\right) \\left(\\xi + 1\\right)$"
      ],
      "text/plain": [
       "<IPython.core.display.Math object>"
      ]
     },
     "metadata": {},
     "output_type": "display_data"
    },
    {
     "data": {
      "text/latex": [
       "$\\displaystyle P_{8,\\eta} = 1.0 \\eta \\left(1.0 \\xi - 1.0\\right)$"
      ],
      "text/plain": [
       "<IPython.core.display.Math object>"
      ]
     },
     "metadata": {},
     "output_type": "display_data"
    }
   ],
   "source": [
    "P5_xi = factor(diff(P5, xi))\n",
    "P6_xi = factor(diff(P6, xi))\n",
    "P7_xi = factor(diff(P7, xi))\n",
    "P8_xi = factor(diff(P8, xi))\n",
    "\n",
    "P5_eta = factor(diff(P5, eta))\n",
    "P6_eta = factor(diff(P6, eta))\n",
    "P7_eta = factor(diff(P7, eta))\n",
    "P8_eta = factor(diff(P8, eta))\n",
    "\n",
    "print('Partial Derivatives:')\n",
    "display(Math('P_{5,\\\\xi} = ' + latex(P5_xi)))\n",
    "display(Math('P_{6,\\\\xi} = ' + latex(P6_xi)))\n",
    "display(Math('P_{7,\\\\xi} = ' + latex(P7_xi)))\n",
    "display(Math('P_{8,\\\\xi} = ' + latex(P8_xi)))\n",
    "\n",
    "print('')\n",
    "display(Math('P_{5,\\\\eta} = ' + latex(P5_eta)))\n",
    "display(Math('P_{6,\\\\eta} = ' + latex(P6_eta)))\n",
    "display(Math('P_{7,\\\\eta} = ' + latex(P7_eta)))\n",
    "display(Math('P_{8,\\\\eta} = ' + latex(P8_eta)))\n",
    "\n",
    "# print('P5_xi = ' + latex(P5_xi))\n",
    "# print('P6_xi = ' + latex(P6_xi))\n",
    "# print('P7_xi = ' + latex(P7_xi))\n",
    "# print('P8_xi = ' + latex(P8_xi))\n",
    "\n",
    "# print('P5_eta = ' + latex(P5_eta))\n",
    "# print('P6_eta = ' + latex(P6_eta))\n",
    "# print('P7_eta = ' + latex(P7_eta))\n",
    "# print('P8_eta = ' + latex(P8_eta))"
   ]
  },
  {
   "attachments": {},
   "cell_type": "markdown",
   "metadata": {},
   "source": [
    "# Step 2: Relate the (x, y) Local Coordinate System to the ($\\xi$, $\\eta$) Natural Coordinate System\n",
    "DKMQ elements use 2 coordinate systems. The natural coordinate system has its origin at the plate's centroid where $\\xi$ = 0 and $\\eta$ = 0, and goes from -1 to 1 along each axis. For example ($\\xi$, $\\eta$) = (-1, -1) is the bottom left corner of the plate. ($\\xi$, $\\eta$) = (1, 0) is the center of the right edge of the plate. Using the ($\\xi$, $\\eta$) system greatly simplifies integration over the volume of the plate. The interpolation functions are used to relate (or map) the real world (x, y) system to the natural ($\\xi$, $\\eta$) system:\n",
    "\n",
    "$x = \\sum \\limits _{i=1} ^{4} {N_ix_i}$ &emsp; &emsp; $y = \\sum \\limits _{i=1} ^{4} {N_iy_i}$\n",
    "\n",
    "<div>\n",
    "<img src=\"DKMQ Node Locations.png\" width=\"500\">\n",
    "</div>"
   ]
  },
  {
   "cell_type": "code",
   "execution_count": 5,
   "metadata": {},
   "outputs": [
    {
     "data": {
      "text/latex": [
       "$\\displaystyle x = 0.25 x_{1} \\left(\\eta - 1\\right) \\left(\\xi - 1\\right) - 0.25 x_{2} \\left(\\eta - 1\\right) \\left(\\xi + 1\\right) + 0.25 x_{3} \\left(\\eta + 1\\right) \\left(\\xi + 1\\right) - 0.25 x_{4} \\left(\\eta + 1\\right) \\left(\\xi - 1\\right)$"
      ],
      "text/plain": [
       "<IPython.core.display.Math object>"
      ]
     },
     "metadata": {},
     "output_type": "display_data"
    },
    {
     "data": {
      "text/latex": [
       "$\\displaystyle y = 0.25 y_{1} \\left(\\eta - 1\\right) \\left(\\xi - 1\\right) - 0.25 y_{2} \\left(\\eta - 1\\right) \\left(\\xi + 1\\right) + 0.25 y_{3} \\left(\\eta + 1\\right) \\left(\\xi + 1\\right) - 0.25 y_{4} \\left(\\eta + 1\\right) \\left(\\xi - 1\\right)$"
      ],
      "text/plain": [
       "<IPython.core.display.Math object>"
      ]
     },
     "metadata": {},
     "output_type": "display_data"
    }
   ],
   "source": [
    "x = N1*x1 + N2*x2 + N3*x3 + N4*x4\n",
    "y = N1*y1 + N2*y2 + N3*y3 + N4*y4\n",
    "\n",
    "display(Math('x = ' + latex(x)))\n",
    "display(Math('y = ' + latex(y)))"
   ]
  },
  {
   "cell_type": "markdown",
   "metadata": {},
   "source": [
    "# Step 3: Find the Jacobian Matrix\n",
    "The Jacobian matrix converts derivatives with respect to x and y into derivatives with respect to $\\xi$ and $\\eta$. It will be used for deriving the $[B_b]$ matrix. It should also be noted that he term $dA$ in the equation for $[k]$ above can be rewritten as:\n",
    "\n",
    "$dA = |J|*d\\xi*d\\eta$\n",
    "\n",
    "$J = \\begin{bmatrix} \\frac{dx}{d\\xi} & \\frac{dy}{d\\xi} \\\\ \\frac{dx}{d\\eta} & \\frac{dy}{d\\eta} \\end{bmatrix}$"
   ]
  },
  {
   "cell_type": "code",
   "execution_count": 6,
   "metadata": {},
   "outputs": [
    {
     "data": {
      "text/latex": [
       "$\\displaystyle J = (1/4)\\left[\\begin{matrix}x_{1} \\left(\\eta - 1\\right) - 1.0 x_{2} \\left(\\eta - 1\\right) + x_{3} \\left(\\eta + 1\\right) - 1.0 x_{4} \\left(\\eta + 1\\right) & y_{1} \\left(\\eta - 1\\right) - 1.0 y_{2} \\left(\\eta - 1\\right) + y_{3} \\left(\\eta + 1\\right) - 1.0 y_{4} \\left(\\eta + 1\\right)\\\\x_{1} \\left(\\xi - 1\\right) - 1.0 x_{2} \\left(\\xi + 1\\right) + x_{3} \\left(\\xi + 1\\right) - 1.0 x_{4} \\left(\\xi - 1\\right) & y_{1} \\left(\\xi - 1\\right) - 1.0 y_{2} \\left(\\xi + 1\\right) + y_{3} \\left(\\xi + 1\\right) - 1.0 y_{4} \\left(\\xi - 1\\right)\\end{matrix}\\right]$"
      ],
      "text/plain": [
       "<IPython.core.display.Math object>"
      ]
     },
     "metadata": {},
     "output_type": "display_data"
    }
   ],
   "source": [
    "J = Matrix([[diff(x, xi), diff(y, xi)],\n",
    "            [diff(x, eta), diff(y, eta)]])\n",
    "\n",
    "display(Math('J = (1/4)' + latex(factor(J*4))))\n",
    "# print(J*4)"
   ]
  },
  {
   "attachments": {},
   "cell_type": "markdown",
   "metadata": {},
   "source": [
    "# Step 4: Calculate the \n",
    "\n",
    "These curvatures can be obtained from Equation 5.99, which uses the interpolation functions and the nodal rotations to define curvature. We will also need the derivatives of these curvatures:\n",
    "\n",
    "$\\beta_x = -\\sum \\limits_{i=1}^{4} h_i \\theta_y^i$ &ensp; $\\therefore$ &ensp; $\\frac{d\\beta_x}{dx} = -\\sum \\limits_{i=1}^{4}\\frac{dh_i}{dx}\\theta_y^i$  &ensp; and &ensp; $\\frac{d\\beta_x}{dy} = -\\sum \\limits_{i=1}^{4}\\frac{dh_i}{dy}\\theta_y^i$\n",
    "\n",
    "$\\beta_y = \\sum \\limits_{i=1}^{4} h_i \\theta_x^i$ &ensp; $\\therefore$ &ensp; $\\frac{d\\beta_y}{dy} = \\sum \\limits_{i=1}^{4}\\frac{dh_i}{dy}\\theta_x^i$  &ensp; and &ensp; $\\frac{d\\beta_y}{dx} = \\sum \\limits_{i=1}^{4}\\frac{dh_i}{dx}\\theta_x^i$\n",
    "\n",
    "Plugging these equations into Reference 1 Equation 5.95 we can write an expression for the bending strains:\n",
    "\n",
    "$\\kappa = \\begin{bmatrix} \\frac{d\\beta_x}{dx} \\\\ \\frac{d\\beta_y}{dy} \\\\ \\frac{d\\beta_x}{dy} + \\frac{d\\beta_y}{dx}\\end{bmatrix} = [B_\\kappa][u] = \\begin{bmatrix} 0 & 0 & -\\frac{h_1}{dx} & 0 & 0 & -\\frac{h_2}{dx} & ... \\\\ 0 & \\frac{h_1}{dy} & 0 & 0 & \\frac{h_2}{dy} & 0 & ... \\\\ 0 & \\frac{h_1}{dx} & -\\frac{h_1}{dy} & 0 & \\frac{h_2}{dx} & -\\frac{h_2}{dy} & ... \\end{bmatrix} \\begin{bmatrix} w_1 \\\\ \\theta_{x1} \\\\ \\theta_{y1} \\\\ w_2 \\\\ \\theta_{x2} \\\\ \\theta_{y2} \\\\ . \\\\ . \\\\ . \\end{bmatrix}$\n",
    "\n",
    "where it can be seen that\n",
    "\n",
    "$[B_\\kappa] = \\begin{bmatrix} 0 & 0 & -\\frac{h_1}{dx} & 0 & 0 & -\\frac{h_2}{dx} & ... \\\\ 0 & \\frac{h_1}{dy} & 0 & 0 & \\frac{h_2}{dy} & 0 & ... \\\\ 0 & \\frac{h_1}{dx} & -\\frac{h_1}{dy} & 0 & \\frac{h_2}{dx} & -\\frac{h_2}{dy} & ... \\end{bmatrix}$\n",
    "\n",
    "Using the Jacobian matrix as shown in Reference 1, Equation 5.25, we can change these derivatives with respect to x and y into derivatives with respect to r and s.\n",
    "\n",
    "$\\begin{bmatrix} \\frac{d}{dx} \\\\ \\frac{d}{dy} \\end{bmatrix} = J^{-1} \\begin{bmatrix} \\frac{d}{dr} \\\\ \\frac{d}{ds} \\end{bmatrix}$\n",
    "\n",
    "Using the Jacobian to evaluate the derivatives of the shape functions ($dN$) with respect to x and y yields the following in terms of $\\xi$ and $\\eta$:\n",
    "\n",
    "$\\begin{bmatrix} \\frac{dN}{dx} \\\\ \\frac{dN}{dy} \\end{bmatrix} = \\begin{bmatrix} \\frac{dh_1}{dx} & \\frac{dh_2}{dx} & \\frac{dh_3}{dx} & \\frac{dh_4}{dx} \\\\ \\frac{dh_1}{dy} & \\frac{dh_2}{dy} & \\frac{dh_3}{dy} & \\frac{dh_4}{dy} \\end{bmatrix} = J^{-1} \\begin{bmatrix} \\frac{dh_1}{dr} & \\frac{dh_2}{dr} & \\frac{dh_3}{dr} & \\frac{dh_4}{dr} \\\\ \\frac{dh_1}{ds} & \\frac{dh_2}{ds} & \\frac{dh_3}{ds} & \\frac{dh_4}{ds} \\end{bmatrix}$\n",
    "\n",
    "Evaluating this equation gives the following:"
   ]
  },
  {
   "cell_type": "code",
   "execution_count": 7,
   "metadata": {
    "tags": []
   },
   "outputs": [
    {
     "data": {
      "text/latex": [
       "$\\displaystyle \\begin{bmatrix} \\frac{dN}{dx} \\\\ \\frac{dN}{dy} \\end{bmatrix} = J^{-1}(1/4)\\left[\\begin{matrix}\\eta - 1.0 & 1.0 - 1.0 \\eta & \\eta + 1.0 & - 1.0 \\eta - 1.0\\\\\\xi - 1.0 & - 1.0 \\xi - 1.0 & \\xi + 1.0 & 1.0 - 1.0 \\xi\\end{matrix}\\right]$"
      ],
      "text/plain": [
       "<IPython.core.display.Math object>"
      ]
     },
     "metadata": {},
     "output_type": "display_data"
    }
   ],
   "source": [
    "dN_dxi_deta = Matrix([[diff(N1, xi), diff(N2, xi), diff(N3, xi), diff(N4, xi)],\n",
    "                 [diff(N1, eta), diff(N2, eta), diff(N3, eta), diff(N4, eta)]])\n",
    "\n",
    "display(Math(r'\\begin{bmatrix} \\frac{dN}{dx} \\\\ \\frac{dN}{dy} \\end{bmatrix} = J^{-1}(1/4)' + latex(dN_dxi_deta*4)))"
   ]
  },
  {
   "cell_type": "markdown",
   "metadata": {},
   "source": [
    "We can now calculate this expression numerically in the program and plug the terms into the expression we derived for $[B_{\\kappa}]$. Note that the matrix is a function of r and s. This matrix will be different for any (r, s) point on the quad element. Later on, four Guass points will be selected for numerical integration by Guassian quadrature of the expression for $[k]$."
   ]
  },
  {
   "cell_type": "markdown",
   "metadata": {},
   "source": [
    "# Step 5: Find the $[B_m]$ Matrix for In-Plane Forces\n",
    "\n",
    "The procedure for the $[B_m]$ matrix is nearly identical to that for the $[B_{\\kappa}]$ matrix. Instead of an equation for the bending strains $\\kappa$, we have an equation for in-plane strains $\\epsilon$: \n",
    "\n",
    "$\\epsilon = \\begin{bmatrix} \\epsilon_{xx} \\\\ \\epsilon_{yy} \\\\ \\gamma_{xy} \\end{bmatrix} = \\begin{bmatrix} \\frac{du}{dx} \\\\ \\frac{dv}{dy} \\\\ \\frac{du}{dy} + \\frac{dv}{dx}\\end{bmatrix} = [B_m][u] = \\begin{bmatrix} \\frac{dN_1}{dx} & 0 & \\frac{dN_2}{dx} & 0 & ... \\\\ 0 & \\frac{dN_1}{dy} & 0 & \\frac{dN_2}{dy} & ... \\\\ \\frac{dN_1}{dy} & \\frac{dN_1}{dx} & \\frac{dN_2}{dy} & \\frac{dN_2}{dx} & ... \\end{bmatrix} \\begin{bmatrix} u_1 \\\\ v_1 \\\\ u_2 \\\\ v_2 \\\\ . \\\\ . \\\\ . \\end{bmatrix}$\n",
    "\n",
    "As before, to obtain the $[B_m]$ matrix, we can substitute in the terms from the following expression into the expression for $[B_m]$:"
   ]
  },
  {
   "cell_type": "code",
   "execution_count": 8,
   "metadata": {
    "tags": []
   },
   "outputs": [
    {
     "data": {
      "text/latex": [
       "$\\displaystyle \\begin{bmatrix} \\frac{dH}{dx} \\\\ \\frac{dH}{dy} \\end{bmatrix} = J^{-1}(1/4)\\left[\\begin{matrix}\\eta - 1.0 & 1.0 - 1.0 \\eta & \\eta + 1.0 & - 1.0 \\eta - 1.0\\\\\\xi - 1.0 & - 1.0 \\xi - 1.0 & \\xi + 1.0 & 1.0 - 1.0 \\xi\\end{matrix}\\right]$"
      ],
      "text/plain": [
       "<IPython.core.display.Math object>"
      ]
     },
     "metadata": {},
     "output_type": "display_data"
    }
   ],
   "source": [
    "display(Math(r'\\begin{bmatrix} \\frac{dH}{dx} \\\\ \\frac{dH}{dy} \\end{bmatrix} = J^{-1}(1/4)' + latex(dN_dxi_deta*4)))"
   ]
  },
  {
   "cell_type": "markdown",
   "metadata": {},
   "source": [
    "# Step 6: Find the $[B_s]$ Matrix for Shear\n",
    "\n",
    "Theoretically the shear matrix could be obtained the same way, but when we do that we tend to get spurious shear stresses due to a phenomenon known as shear locking. The MITC4 element is formulated differently to eliminate the shear locking problem.\n",
    "\n",
    "By rearranging them, we can rewrite equations 5.103 in matrix form as follows:\n",
    "\n",
    "$\\gamma_{rz} = [B_{\\gamma_{rz}}][u] = \\frac{\\sqrt{(C_x+rB_x)^2+(C_y+rB_y)^2}}{8|J|} \\begin{bmatrix} \\frac{1+s}{2} & -\\frac{y_1-y_2}{4}(1+s) & \\frac{x_1-x_2}{4}(1+s) & -\\frac{1+s}{2} & -\\frac{y_1-y_2}{4}(1+s) & \\frac{x_1-x_2}{4}(1+s) & -\\frac{1-s}{2} & -\\frac{y_4-y_3}{4}(1-s) & \\frac{x_4-x_3}{4}(1-s) & \\frac{1-s}{2} & -\\frac{y_4-y_3}{4}(1-s) & \\frac{x_4-x_3}{4}(1-s) \\end{bmatrix} [u]$\n",
    "\n",
    "$\\gamma_{sz} = [B_{\\gamma_{sz}}][u] = \\frac{\\sqrt{(A_x+sB_x)^2+(A_y+sB_y)^2}}{8|J|} \\begin{bmatrix} \\frac{1+r}{2} & -\\frac{y_1-y_4}{4}(1 + r) & \\frac{x_1-x_4}{4}(1+r) & \\frac{1-r}{2} &  -\\frac{y_2-y_3}{4}(1-r) & \\frac{x_2-x_3}{4}(1-r) & -\\frac{1-r}{2} & -\\frac{y_2-y_3}{4}(1-r) & \\frac{x_2-x_3}{4}(1-r) & -\\frac{1+r}{2} & -\\frac{y_1-y_4}{4}(1+r) & \\frac{x_1-x_4}{4}(1+r) \\end{bmatrix} [u]$\n",
    "\n",
    "where\n",
    "\n",
    "$u = \\begin{bmatrix} w_1 & \\theta_x^1 & \\theta_y^1 & w_2 & \\theta_x^2 & \\theta_y^2 & w_3 & \\theta_x^3 & \\theta_y^3 & w_4 & \\theta_x^4 & \\theta_y^4 \\end{bmatrix}^T$"
   ]
  },
  {
   "cell_type": "markdown",
   "metadata": {},
   "source": [
    "Equations 5.102 can now be rewritten as:\n",
    "\n",
    "$\\gamma_{xz}=[B_{\\gamma_{rz}}][u]sin{\\beta}-[B_{\\gamma_{sz}}][u]sin{\\alpha}=([B_{\\gamma_{rz}}]sin{\\beta}-[B_{\\gamma_{sz}}]sin{\\alpha})[u]$\n",
    "\n",
    "$\\gamma_{yz}=-[B_{\\gamma_{rz}}][u]cos{\\beta}+[B_{\\gamma_{sz}}][u]cos{\\alpha}=(-[B_{\\gamma_{rz}}]cos{\\beta}+[B_{\\gamma_{sz}}]cos{\\alpha})[u]$\n",
    "\n",
    "Or more concisely:\n",
    "\n",
    "$\\gamma = [B_{\\gamma}][u] = \\begin{bmatrix} B_{\\gamma_{xz}} \\\\ B_{\\gamma_{yz}} \\end{bmatrix}[u]$"
   ]
  },
  {
   "cell_type": "markdown",
   "metadata": {},
   "source": [
    "# References\n",
    "\n",
    "The following references were used in the formulation of this element:\n",
    "\n",
    "1. \"A Comparative Formulation of DKMQ, DSQ and MITC4 Quadrilaterail Plate Elements with New Numerical Results Based on s-norm Tests\", Irwan Katili, Jean-Louis Batoz, Imam Jauhari Maknun, Pascal Lardeur\n",
    "3. \"Finite Element Analysis Fundamentals\", Richard H. Gallagher\n",
    "4. \"A First Course in the Finite Element Method, 4th Edition\", Daryl L. Logan"
   ]
  },
  {
   "cell_type": "code",
   "execution_count": null,
   "metadata": {},
   "outputs": [],
   "source": []
  }
 ],
 "metadata": {
  "kernelspec": {
   "display_name": "Python 3 (ipykernel)",
   "language": "python",
   "name": "python3"
  },
  "language_info": {
   "codemirror_mode": {
    "name": "ipython",
    "version": 3
   },
   "file_extension": ".py",
   "mimetype": "text/x-python",
   "name": "python",
   "nbconvert_exporter": "python",
   "pygments_lexer": "ipython3",
   "version": "3.12.3"
  }
 },
 "nbformat": 4,
 "nbformat_minor": 4
}
